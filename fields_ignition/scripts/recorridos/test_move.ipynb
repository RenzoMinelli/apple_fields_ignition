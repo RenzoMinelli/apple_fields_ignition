{
 "cells": [
  {
   "cell_type": "code",
   "execution_count": 1,
   "metadata": {},
   "outputs": [],
   "source": [
    "import rospy\n",
    "from rospy import loginfo, logwarn, logerr\n",
    "import tf2_ros\n",
    "import tf\n",
    "import cv2\n",
    "import numpy as np\n",
    "from sensor_msgs.msg import PointCloud2, PointField, Image\n",
    "from sensor_msgs import point_cloud2 as pc2\n",
    "from cv_bridge import CvBridge\n",
    "bridge = CvBridge()\n",
    "from matplotlib import pyplot as plt\n",
    "from geometry_msgs.msg import Point, Twist\n",
    "from std_msgs.msg import String, Header\n",
    "from fields_ignition_msgs.msg import Detection, Detections\n",
    "import itertools\n",
    "import struct"
   ]
  },
  {
   "cell_type": "code",
   "execution_count": 2,
   "metadata": {},
   "outputs": [
    {
     "name": "stdout",
     "output_type": "stream",
     "text": [
      "[INFO] [1666068246.583513, 0.000000]: running...\n",
      "param \"~cmd_vel_topic\" = \"/costar_husky_sensor_config_1/cmd_vel\"\n"
     ]
    }
   ],
   "source": [
    "rospy.init_node('follow')\n",
    "loginfo('running...')\n",
    "tfBuffer = tf2_ros.Buffer()\n",
    "listener = tf2_ros.TransformListener(tfBuffer)\n",
    "\n",
    "def get_param(name, default):\n",
    "    try:\n",
    "        value = rospy.get_param(name, default)\n",
    "    except ConnectionRefusedError:\n",
    "        value = default\n",
    "    print('param \"{}\" = \"{}\"'.format(name, value))\n",
    "    return value\n",
    "\n",
    "CMD_VEL_TOPIC = get_param('~cmd_vel_topic', '/costar_husky_sensor_config_1/cmd_vel')"
   ]
  },
  {
   "cell_type": "code",
   "execution_count": 3,
   "metadata": {},
   "outputs": [
    {
     "data": {
      "text/plain": [
       "<rospy.topics.Publisher at 0x7fd6842000d0>"
      ]
     },
     "execution_count": 3,
     "metadata": {},
     "output_type": "execute_result"
    }
   ],
   "source": [
    "pub_cmd_vel = rospy.Publisher(CMD_VEL_TOPIC, Twist, queue_size=1)\n",
    "pub_cmd_vel"
   ]
  },
  {
   "cell_type": "code",
   "execution_count": 4,
   "metadata": {},
   "outputs": [],
   "source": [
    "robot_initial_pose = (0,0,0,0,0,0)"
   ]
  },
  {
   "cell_type": "code",
   "execution_count": 5,
   "metadata": {},
   "outputs": [],
   "source": [
    "def move():\n",
    "    # Starts a new node\n",
    "    rospy.init_node('speed_controller', anonymous=True)\n",
    "    velocity_publisher = rospy.Publisher('/costar_husky_sensor_config_1/cmd_vel', Twist, queue_size=10)\n",
    "    vel_msg = Twist()\n",
    "\n",
    "    #Receiveing the user's input\n",
    "    print(\"Let's move your robot\")\n",
    "    speed = int(input(\"Input your speed:\"))\n",
    "    distance = int(input(\"Type your distance:\"))\n",
    "    isForward = bool(input(\"Foward?: \"))#True or False\n",
    "\n",
    "    #Checking if the movement is forward or backwards\n",
    "    if(isForward):\n",
    "        vel_msg.linear.x = abs(speed)\n",
    "    else:\n",
    "        vel_msg.linear.x = -abs(speed)\n",
    "    #Since we are moving just in x-axis\n",
    "    vel_msg.linear.y = 0\n",
    "    vel_msg.linear.z = 0\n",
    "    vel_msg.angular.x = 0\n",
    "    vel_msg.angular.y = 0\n",
    "    vel_msg.angular.z = 0\n",
    "\n",
    "    while not rospy.is_shutdown():\n",
    "\n",
    "        #Setting the current time for distance calculus\n",
    "        t0 = rospy.Time.now().to_sec()\n",
    "        current_distance = 0\n",
    "\n",
    "        #Loop to move the turtle in an specified distance\n",
    "        while(current_distance < distance):\n",
    "            #Publish the velocity\n",
    "            velocity_publisher.publish(vel_msg)\n",
    "            #Takes actual time to velocity calculus\n",
    "            t1=rospy.Time.now().to_sec()\n",
    "            #Calculates distancePoseStamped\n",
    "            current_distance= speed*(t1-t0)\n",
    "        #After the loop, stops the robot\n",
    "        vel_msg.linear.x = 0\n",
    "        #Force the robot to stop\n",
    "        velocity_publisher.publish(vel_msg)"
   ]
  },
  {
   "cell_type": "code",
   "execution_count": null,
   "metadata": {},
   "outputs": [],
   "source": [
    "move()"
   ]
  },
  {
   "cell_type": "code",
   "execution_count": 6,
   "metadata": {},
   "outputs": [],
   "source": [
    "def get_robot_pose():\n",
    "    try:\n",
    "        print(1)\n",
    "        tf_robot =  tfBuffer.lookup_transform('field', 'costar_husky_sensor_config_1', rospy.Time(), rospy.Duration(1.0))\n",
    "        print(2)\n",
    "        yaw = tf.transformations.euler_from_quaternion([\n",
    "            tf_robot.transform.rotation.x,\n",
    "            tf_robot.transform.rotation.y,\n",
    "            tf_robot.transform.rotation.z,\n",
    "            tf_robot.transform.rotation.w,\n",
    "        ])[2]\n",
    "        return np.array([tf_robot.transform.translation.x, tf_robot.transform.translation.y]), yaw\n",
    "    except (tf2_ros.LookupException, tf2_ros.ConnectivityException, tf2_ros.ExtrapolationException):\n",
    "        rospy.logwarn('Navigator: Can\\'t find transform to sensor')\n",
    "        rospy.sleep(1)\n",
    "        return None\n"
   ]
  },
  {
   "cell_type": "code",
   "execution_count": 7,
   "metadata": {},
   "outputs": [],
   "source": [
    "class TracePoints():\n",
    "    def __init__(self, topic=\"debug_points\", frame_id=\"field\"):\n",
    "        self.publisher = rospy.Publisher(topic, PointCloud2, queue_size=1)\n",
    "        self.frame_id = frame_id\n",
    "\n",
    "        self.fields = [PointField('x', 0, PointField.FLOAT32, 1),\n",
    "                       PointField('y', 4, PointField.FLOAT32, 1),\n",
    "                       PointField('z', 8, PointField.FLOAT32, 1),\n",
    "                       # PointField('rgb', 12, PointField.UINT32, 1),\n",
    "                       PointField('rgba', 12, PointField.UINT32, 1),\n",
    "                       ]\n",
    "        self.reset()\n",
    "\n",
    "    def reset(self):\n",
    "        self.points = []\n",
    "\n",
    "    def add_point(self, point, color):\n",
    "        x = point[0]\n",
    "        y = point[1]\n",
    "        z = point[2]\n",
    "        r = int(color[0] * 255.0)\n",
    "        g = int(color[1] * 255.0)\n",
    "        b = int(color[2] * 255.0)\n",
    "        a = 255\n",
    "        rgb = struct.unpack('I', struct.pack('BBBB', b, g, r, a))[0]\n",
    "        pt = [x, y, z, rgb]\n",
    "        self.points.append(pt)\n",
    "\n",
    "    def publish(self):\n",
    "        header = Header()\n",
    "        header.frame_id = self.frame_id\n",
    "        msg = pc2.create_cloud(header, self.fields, self.points)\n",
    "        self.publisher.publish(msg)"
   ]
  },
  {
   "cell_type": "code",
   "execution_count": 8,
   "metadata": {},
   "outputs": [],
   "source": [
    "path = [\n",
    "    np.array([-1, -1]),\n",
    "    np.array([0, -.75]),\n",
    "    np.array([.7, -0.2]),\n",
    "    np.array([1, 1]),\n",
    "    np.array([1, 0.9*10]),\n",
    "    np.array([1.3, 0.9*11.5]),\n",
    "    np.array([2, 0.9*12]),\n",
    "    np.array([2.7, 0.9*11.5]),\n",
    "    np.array([3, 0.9*10]),\n",
    "    np.array([3, -1]),\n",
    "    np.array([5, -1]),\n",
    "    np.array([5, 0.9*12]),\n",
    "]\n",
    "#path = np.concatenate([np.linspace(path[i-1], path[i], np.sqrt(np.sum((path[i-1] - path[i])**2))*3+1)[1:] for i in range(1, len(path))])\n",
    "tp = TracePoints('path')\n",
    "for x, y in path:\n",
    "    tp.add_point([x, y, 0], [0,0,1])\n",
    "tp.publish()\n"
   ]
  },
  {
   "cell_type": "code",
   "execution_count": 9,
   "metadata": {},
   "outputs": [],
   "source": [
    "def step_robot():\n",
    "    robot_xy, robot_yaw = get_robot_pose()\n",
    "    path_distances = path - robot_xy\n",
    "    path_distances = np.hypot(path_distances[:,0], path_distances[:,1])\n",
    "    min_dist = 0.5\n",
    "    target_points_idx = np.max(np.argsort(path_distances)[:5])\n",
    "    if path_distances[target_points_idx] < min_dist:\n",
    "        target_points_idx += 1\n",
    "    target_xy = path[target_points_idx]\n",
    "\n",
    "    tp.reset()\n",
    "    for x, y in path:\n",
    "        color = [1,0,0] if x == target_xy[0] and y == target_xy[1] else [0,0,1]\n",
    "        tp.add_point([x, y, 0], color)\n",
    "    tp.publish()\n",
    "\n",
    "    print(target_xy  , robot_xy)\n",
    "    x_diff, y_diff = target_xy - robot_xy\n",
    "    angle = np.arctan2(y_diff, x_diff)\n",
    "    yaw_diff = (((angle - robot_yaw) + np.pi) % (2*np.pi)) - np.pi\n",
    "    print(y_diff, x_diff, yaw_diff)\n",
    "\n",
    "    max_yaw_diff = 0.8\n",
    "    cmd_msg = Twist()\n",
    "    if np.abs(yaw_diff) > max_yaw_diff:\n",
    "        cmd_msg.angular.z = yaw_diff * 1.2\n",
    "    else:\n",
    "        cmd_msg.angular.z = yaw_diff\n",
    "        cmd_msg.linear.x = 1.0 - yaw_diff\n",
    "    print(cmd_msg)\n",
    "    pub_cmd_vel.publish(cmd_msg)"
   ]
  },
  {
   "cell_type": "code",
   "execution_count": 10,
   "metadata": {
    "tags": []
   },
   "outputs": [
    {
     "name": "stdout",
     "output_type": "stream",
     "text": [
      "1\n"
     ]
    },
    {
     "name": "stderr",
     "output_type": "stream",
     "text": [
      "[WARN] [1666068260.194559, 11.627000]: Navigator: Can't find transform to sensor\n"
     ]
    },
    {
     "ename": "TypeError",
     "evalue": "cannot unpack non-iterable NoneType object",
     "output_type": "error",
     "traceback": [
      "\u001b[0;31m---------------------------------------------------------------------------\u001b[0m",
      "\u001b[0;31mTypeError\u001b[0m                                 Traceback (most recent call last)",
      "\u001b[0;32m<ipython-input-10-01fcf72c50ea>\u001b[0m in \u001b[0;36m<module>\u001b[0;34m\u001b[0m\n\u001b[1;32m      3\u001b[0m     \u001b[0mrate\u001b[0m \u001b[0;34m=\u001b[0m \u001b[0mrospy\u001b[0m\u001b[0;34m.\u001b[0m\u001b[0mRate\u001b[0m\u001b[0;34m(\u001b[0m\u001b[0;36m10\u001b[0m\u001b[0;34m)\u001b[0m\u001b[0;34m\u001b[0m\u001b[0;34m\u001b[0m\u001b[0m\n\u001b[1;32m      4\u001b[0m     \u001b[0;32mwhile\u001b[0m \u001b[0;32mnot\u001b[0m \u001b[0mrospy\u001b[0m\u001b[0;34m.\u001b[0m\u001b[0mis_shutdown\u001b[0m\u001b[0;34m(\u001b[0m\u001b[0;34m)\u001b[0m\u001b[0;34m:\u001b[0m\u001b[0;34m\u001b[0m\u001b[0;34m\u001b[0m\u001b[0m\n\u001b[0;32m----> 5\u001b[0;31m         \u001b[0mstep_robot\u001b[0m\u001b[0;34m(\u001b[0m\u001b[0;34m)\u001b[0m\u001b[0;34m\u001b[0m\u001b[0;34m\u001b[0m\u001b[0m\n\u001b[0m\u001b[1;32m      6\u001b[0m         \u001b[0mrate\u001b[0m\u001b[0;34m.\u001b[0m\u001b[0msleep\u001b[0m\u001b[0;34m(\u001b[0m\u001b[0;34m)\u001b[0m\u001b[0;34m\u001b[0m\u001b[0;34m\u001b[0m\u001b[0m\n\u001b[1;32m      7\u001b[0m \u001b[0;32mexcept\u001b[0m \u001b[0mrospy\u001b[0m\u001b[0;34m.\u001b[0m\u001b[0mROSInterruptException\u001b[0m\u001b[0;34m:\u001b[0m\u001b[0;34m\u001b[0m\u001b[0;34m\u001b[0m\u001b[0m\n",
      "\u001b[0;32m<ipython-input-9-41c877faab69>\u001b[0m in \u001b[0;36mstep_robot\u001b[0;34m()\u001b[0m\n\u001b[1;32m      1\u001b[0m \u001b[0;32mdef\u001b[0m \u001b[0mstep_robot\u001b[0m\u001b[0;34m(\u001b[0m\u001b[0;34m)\u001b[0m\u001b[0;34m:\u001b[0m\u001b[0;34m\u001b[0m\u001b[0;34m\u001b[0m\u001b[0m\n\u001b[0;32m----> 2\u001b[0;31m     \u001b[0mrobot_xy\u001b[0m\u001b[0;34m,\u001b[0m \u001b[0mrobot_yaw\u001b[0m \u001b[0;34m=\u001b[0m \u001b[0mget_robot_pose\u001b[0m\u001b[0;34m(\u001b[0m\u001b[0;34m)\u001b[0m\u001b[0;34m\u001b[0m\u001b[0;34m\u001b[0m\u001b[0m\n\u001b[0m\u001b[1;32m      3\u001b[0m     \u001b[0mpath_distances\u001b[0m \u001b[0;34m=\u001b[0m \u001b[0mpath\u001b[0m \u001b[0;34m-\u001b[0m \u001b[0mrobot_xy\u001b[0m\u001b[0;34m\u001b[0m\u001b[0;34m\u001b[0m\u001b[0m\n\u001b[1;32m      4\u001b[0m     \u001b[0mpath_distances\u001b[0m \u001b[0;34m=\u001b[0m \u001b[0mnp\u001b[0m\u001b[0;34m.\u001b[0m\u001b[0mhypot\u001b[0m\u001b[0;34m(\u001b[0m\u001b[0mpath_distances\u001b[0m\u001b[0;34m[\u001b[0m\u001b[0;34m:\u001b[0m\u001b[0;34m,\u001b[0m\u001b[0;36m0\u001b[0m\u001b[0;34m]\u001b[0m\u001b[0;34m,\u001b[0m \u001b[0mpath_distances\u001b[0m\u001b[0;34m[\u001b[0m\u001b[0;34m:\u001b[0m\u001b[0;34m,\u001b[0m\u001b[0;36m1\u001b[0m\u001b[0;34m]\u001b[0m\u001b[0;34m)\u001b[0m\u001b[0;34m\u001b[0m\u001b[0;34m\u001b[0m\u001b[0m\n\u001b[1;32m      5\u001b[0m     \u001b[0mmin_dist\u001b[0m \u001b[0;34m=\u001b[0m \u001b[0;36m0.5\u001b[0m\u001b[0;34m\u001b[0m\u001b[0;34m\u001b[0m\u001b[0m\n",
      "\u001b[0;31mTypeError\u001b[0m: cannot unpack non-iterable NoneType object"
     ]
    }
   ],
   "source": [
    "#rospy.init_node('speed_controller', anonymous=True)\n",
    "try:\n",
    "    rate = rospy.Rate(10)\n",
    "    while not rospy.is_shutdown():\n",
    "        step_robot()\n",
    "        rate.sleep()\n",
    "except rospy.ROSInterruptException:\n",
    "    pass"
   ]
  },
  {
   "cell_type": "code",
   "execution_count": null,
   "metadata": {},
   "outputs": [],
   "source": [
    "np.array([1,1])  np.array([1,1])"
   ]
  },
  {
   "cell_type": "code",
   "execution_count": null,
   "metadata": {},
   "outputs": [],
   "source": []
  }
 ],
 "metadata": {
  "kernelspec": {
   "display_name": "Python 3",
   "language": "python",
   "name": "python3"
  },
  "language_info": {
   "codemirror_mode": {
    "name": "ipython",
    "version": 3
   },
   "file_extension": ".py",
   "mimetype": "text/x-python",
   "name": "python",
   "nbconvert_exporter": "python",
   "pygments_lexer": "ipython3",
   "version": "3.8.10"
  }
 },
 "nbformat": 4,
 "nbformat_minor": 2
}
