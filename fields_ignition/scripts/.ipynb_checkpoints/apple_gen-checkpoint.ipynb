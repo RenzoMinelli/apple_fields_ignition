{
 "cells": [
  {
   "cell_type": "code",
   "execution_count": 2,
   "metadata": {},
   "outputs": [
    {
     "name": "stdout",
     "output_type": "stream",
     "text": [
      "\u001b]0;facundo@facundo-Inspiron-7559: ~/Documentos/tesis/fields_ingnition_v2/scripts\u0007\u001b[01;32mfacundo@facundo-Inspiron-7559\u001b[00m:\u001b[01;34m~/Documentos/tesis/fields_ingnition_v2/scripts\u001b[00m$ ^C\n",
      "\n",
      "\u001b]0;facundo@facundo-Inspiron-7559: ~/Documentos/tesis/fields_ingnition_v2/scripts\u0007\u001b[01;32mfacundo@facundo-Inspiron-7559\u001b[00m:\u001b[01;34m~/Documentos/tesis/fields_ingnition_v2/scripts\u001b[00m$ /usr/bin/sh: 1: source: not found\n"
     ]
    }
   ],
   "source": [
    "# /bin/bash\n",
    "# source /opt/ros/noetic/setup.sh"
   ]
  },
  {
   "cell_type": "code",
   "execution_count": 16,
   "metadata": {},
   "outputs": [
    {
     "name": "stdout",
     "output_type": "stream",
     "text": [
      "Requirement already satisfied: cookiecutter in /usr/local/lib/python3.8/dist-packages (2.1.1)\n",
      "Requirement already satisfied: rospkg in /usr/lib/python3/dist-packages (1.4.0)\n",
      "Requirement already satisfied: numpy in /home/facundo/.local/lib/python3.8/site-packages (1.23.3)\n",
      "Requirement already satisfied: Jinja2<4.0.0,>=2.7 in /usr/local/lib/python3.8/dist-packages (from cookiecutter) (3.1.2)\n",
      "Requirement already satisfied: requests>=2.23.0 in /usr/local/lib/python3.8/dist-packages (from cookiecutter) (2.28.1)\n",
      "Requirement already satisfied: jinja2-time>=0.2.0 in /usr/local/lib/python3.8/dist-packages (from cookiecutter) (0.2.0)\n",
      "Requirement already satisfied: python-slugify>=4.0.0 in /usr/local/lib/python3.8/dist-packages (from cookiecutter) (6.1.2)\n",
      "Requirement already satisfied: binaryornot>=0.4.4 in /usr/local/lib/python3.8/dist-packages (from cookiecutter) (0.4.4)\n",
      "Requirement already satisfied: pyyaml>=5.3.1 in /usr/lib/python3/dist-packages (from cookiecutter) (5.3.1)\n",
      "Requirement already satisfied: click<9.0.0,>=7.0 in /home/facundo/.local/lib/python3.8/site-packages (from cookiecutter) (8.1.3)\n",
      "Requirement already satisfied: MarkupSafe>=2.0 in /usr/local/lib/python3.8/dist-packages (from Jinja2<4.0.0,>=2.7->cookiecutter) (2.1.1)\n",
      "Requirement already satisfied: certifi>=2017.4.17 in /usr/lib/python3/dist-packages (from requests>=2.23.0->cookiecutter) (2019.11.28)\n",
      "Requirement already satisfied: urllib3<1.27,>=1.21.1 in /usr/lib/python3/dist-packages (from requests>=2.23.0->cookiecutter) (1.25.8)\n",
      "Requirement already satisfied: charset-normalizer<3,>=2 in /usr/local/lib/python3.8/dist-packages (from requests>=2.23.0->cookiecutter) (2.1.0)\n",
      "Requirement already satisfied: idna<4,>=2.5 in /usr/lib/python3/dist-packages (from requests>=2.23.0->cookiecutter) (2.8)\n",
      "Requirement already satisfied: arrow in /usr/local/lib/python3.8/dist-packages (from jinja2-time>=0.2.0->cookiecutter) (1.2.2)\n",
      "Requirement already satisfied: text-unidecode>=1.3 in /usr/local/lib/python3.8/dist-packages (from python-slugify>=4.0.0->cookiecutter) (1.3)\n",
      "Requirement already satisfied: chardet>=3.0.2 in /usr/lib/python3/dist-packages (from binaryornot>=0.4.4->cookiecutter) (3.0.4)\n",
      "Requirement already satisfied: python-dateutil>=2.7.0 in /home/facundo/.local/lib/python3.8/site-packages (from arrow->jinja2-time>=0.2.0->cookiecutter) (2.8.2)\n",
      "Requirement already satisfied: six>=1.5 in /usr/lib/python3/dist-packages (from python-dateutil>=2.7.0->arrow->jinja2-time>=0.2.0->cookiecutter) (1.14.0)\n"
     ]
    }
   ],
   "source": [
    "! pip install cookiecutter rospkg numpy"
   ]
  },
  {
   "cell_type": "code",
   "execution_count": 1,
   "metadata": {},
   "outputs": [],
   "source": [
    "import rospy\n",
    "import numpy as np\n",
    "from cookiecutter.main import cookiecutter\n",
    "import collections\n",
    "from pathlib import Path\n",
    "import json\n",
    "import shutil"
   ]
  },
  {
   "cell_type": "code",
   "execution_count": 21,
   "metadata": {},
   "outputs": [
    {
     "name": "stdout",
     "output_type": "stream",
     "text": [
      "param \"~seed\" = \"178\"\n",
      "param \"~world_name\" = \"apple_field\"\n",
      "param \"~model_name_prefix\" = \"apple\"\n",
      "param \"~out_path\" = \"/home/facundo/Documentos/tesis/fields_ingnition_v2/scripts/../generated/test01\"\n",
      "param \"~model_template\" = \"/home/facundo/Documentos/tesis/fields_ingnition_v2/scripts/../templates/apple_model\"\n",
      "param \"~world_template\" = \"/home/facundo/Documentos/tesis/fields_ingnition_v2/scripts/../templates/apple_world\"\n",
      "param \"~row_count\" = \"1\"\n",
      "param \"~row_length\" = \"2\"\n",
      "param \"~row_dist\" = \"2.0\"\n",
      "param \"~crop_dist\" = \"0.9\"\n"
     ]
    }
   ],
   "source": [
    "def get_param(name, default):\n",
    "    try:\n",
    "        value = rospy.get_param(name, default)\n",
    "    except ConnectionRefusedError:\n",
    "        value = default\n",
    "    print('param \"{}\" = \"{}\"'.format(name, value))\n",
    "    return value\n",
    "\n",
    "SEED = int(get_param('~seed', '178'))\n",
    "WORLD_NAME = get_param('~world_name', 'apple_field')\n",
    "MODEL_NAME_PREFIX = get_param('~model_name_prefix', 'apple')\n",
    "OUT_PATH = Path(get_param('~out_path', Path.cwd() / '../generated/test01')).resolve()\n",
    "MODEL_TEMPLATE = Path(get_param('~model_template', Path.cwd() / '../templates/apple_model')).resolve()\n",
    "WORLD_TEMPLATE = Path(get_param('~world_template', Path.cwd() / '../templates/apple_world')).resolve()\n",
    "ROW_COUNT = int(get_param('~row_count', '1'))\n",
    "ROW_LENGTH = int(get_param('~row_length', '2'))\n",
    "ROW_DIST = float(get_param('~row_dist', '2.0'))\n",
    "CROP_DIST = float(get_param('~crop_dist', '2'))\n",
    "\n",
    "shutil.rmtree(OUT_PATH, ignore_errors=True)\n",
    "np.random.seed(SEED)\n"
   ]
  },
  {
   "cell_type": "code",
   "execution_count": 23,
   "metadata": {},
   "outputs": [],
   "source": [
    "# helper class to build the markers.json\n",
    "class Markers:\n",
    "    markers = []\n",
    "    last_id = 0\n",
    "\n",
    "    @staticmethod\n",
    "    def next_id():\n",
    "        Markers.last_id += 1\n",
    "        return Markers.last_id\n",
    "\n",
    "    @staticmethod\n",
    "    def reset():\n",
    "        Markers.markers = []\n",
    "    \n",
    "    @staticmethod\n",
    "    def add_plant(x, y, z):\n",
    "        id = Markers.next_id()\n",
    "        Markers.markers.append({\n",
    "            'marker_type': 'PLANT',\n",
    "            'id': id,\n",
    "            'translation': [x, y, z]\n",
    "        })\n",
    "        return id\n",
    "    \n",
    "\n",
    "    @staticmethod\n",
    "    def add_fruit(x, y, z, plant_id):\n",
    "        id = Markers.next_id()\n",
    "        Markers.markers.append({\n",
    "            'marker_type': 'FRUIT',\n",
    "            'id': id,\n",
    "            'translation': [x, y, z],\n",
    "            'plant_id': plant_id\n",
    "        })\n",
    "        return id\n",
    "    \n",
    "    @staticmethod\n",
    "    def dumps():\n",
    "        return json.dumps(Markers.markers, indent=4)"
   ]
  },
  {
   "cell_type": "code",
   "execution_count": 24,
   "metadata": {
    "scrolled": true,
    "tags": [
     "outputPrepend"
    ]
   },
   "outputs": [
    {
     "name": "stdout",
     "output_type": "stream",
     "text": [
      "Blender 3.2.1 (hash a2d59b2dac9e built 2022-07-05 23:53:28)\n",
      "Read prefs: /home/facundo/.config/blender/3.2/config/userpref.blend\n",
      "Read blend: /home/facundo/Documentos/tesis/fields_ingnition_v2/blender/apple_tree.blend\n",
      "Namespace(model_dir='/home/facundo/Documentos/tesis/fields_ingnition_v2/generated/test01/apple_field/apple_0', seed=7417, file='one_leader_tree.json', metadata=True, video=None, model=True)\n",
      "Building  Horizontal Palmette\n",
      "--- Generating leaders\n",
      "----- Estructura generada, agregando hojas y frutas\n",
      "Generando metadata\n",
      "----Generando modelo\n",
      "Collada export: image does not exist:\n",
      "//../textures/brn1.png\n",
      "Collada export to: /home/facundo/Documentos/tesis/fields_ingnition_v2/generated/test01/apple_field/apple_0/meshes/apple.dae\n",
      "Info: Exported 68 Objects\n",
      "Info: Exported 68 Objects\n",
      "\n",
      "Blender quit\n",
      "Error: Not freed memory blocks: 7, total unfreed memory 0.001244 MB\n",
      "Blender 3.2.1 (hash a2d59b2dac9e built 2022-07-05 23:53:28)\n",
      "Read prefs: /home/facundo/.config/blender/3.2/config/userpref.blend\n",
      "Read blend: /home/facundo/Documentos/tesis/fields_ingnition_v2/blender/apple_tree.blend\n",
      "Namespace(model_dir='/home/facundo/Documentos/tesis/fields_ingnition_v2/generated/test01/apple_field/apple_1', seed=3918, file='one_leader_tree.json', metadata=True, video=None, model=True)\n",
      "Building  Horizontal Palmette\n",
      "--- Generating leaders\n",
      "----- Estructura generada, agregando hojas y frutas\n",
      "Generando metadata\n",
      "----Generando modelo\n",
      "Collada export: image does not exist:\n",
      "//../textures/brn1.png\n",
      "Collada export to: /home/facundo/Documentos/tesis/fields_ingnition_v2/generated/test01/apple_field/apple_1/meshes/apple.dae\n",
      "Info: Exported 65 Objects\n",
      "Info: Exported 65 Objects\n",
      "\n",
      "Blender quit\n",
      "Error: Not freed memory blocks: 7, total unfreed memory 0.001244 MB\n"
     ]
    }
   ],
   "source": [
    "models = {'list': []}\n",
    "\n",
    "Markers.reset()\n",
    "\n",
    "for x in range(ROW_COUNT):\n",
    "    for y in range(ROW_LENGTH):\n",
    "        model_name = 'apple_{}'.format(x * ROW_LENGTH + y)\n",
    "\n",
    "        cookiecutter(str(MODEL_TEMPLATE),\n",
    "             output_dir=str(OUT_PATH), \n",
    "             overwrite_if_exists=True, \n",
    "             no_input=True,\n",
    "             extra_context={'world_name': WORLD_NAME, 'model_name': model_name})\n",
    "\n",
    "        x_pos, y_pos, z_pos = x * ROW_DIST, y * CROP_DIST, 0\n",
    "        models['list'].append({\n",
    "            'model': model_name,\n",
    "            'name': model_name,\n",
    "            'pose': '{} {} 0 0 0 0'.format(x_pos, y_pos)\n",
    "        })\n",
    "        x_pos += np.random.uniform(-0.1, 0.1)\n",
    "        y_pos += np.random.uniform(-0.1, 0.1)\n",
    "        seed = np.random.randint(10000)\n",
    "        dir = (OUT_PATH / WORLD_NAME / model_name).resolve()\n",
    "        dir_blender = (Path.cwd() / '../blender').resolve()\n",
    "        blend = str(dir_blender / 'apple_tree.blend')\n",
    "        script = str(dir_blender / 'apple_gen.py')\n",
    "        ! blender $blend --background --python $script -- --model_dir $dir -f one_leader_tree.json  --metadata --model\n",
    "        plant_id = Markers.add_plant(x_pos, y_pos, z_pos)\n",
    "\n",
    "\n",
    "cookiecutter(str(WORLD_TEMPLATE),\n",
    "             output_dir=str(OUT_PATH), \n",
    "             overwrite_if_exists=True, \n",
    "             no_input=True,\n",
    "             extra_context={'world_name': WORLD_NAME, 'models': models})\n",
    "\n",
    "with open(OUT_PATH / WORLD_NAME / 'markers.json', 'w') as outfile:\n",
    "    json.dump(Markers.markers, outfile, indent=4, sort_keys=True)"
   ]
  },
  {
   "cell_type": "code",
   "execution_count": null,
   "metadata": {},
   "outputs": [],
   "source": []
  }
 ],
 "metadata": {
  "celltoolbar": "Tags",
  "kernel_info": {
   "name": "python3"
  },
  "kernelspec": {
   "display_name": "Python 3",
   "language": "python",
   "name": "python3"
  },
  "language_info": {
   "codemirror_mode": {
    "name": "ipython",
    "version": 3
   },
   "file_extension": ".py",
   "mimetype": "text/x-python",
   "name": "python",
   "nbconvert_exporter": "python",
   "pygments_lexer": "ipython3",
   "version": "3.8.10"
  },
  "nteract": {
   "version": "0.22.0"
  },
  "vscode": {
   "interpreter": {
    "hash": "916dbcbb3f70747c44a77c7bcd40155683ae19c65e1c03b4aa3499c5328201f1"
   }
  }
 },
 "nbformat": 4,
 "nbformat_minor": 2
}
